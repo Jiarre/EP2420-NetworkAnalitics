{
 "cells": [
  {
   "cell_type": "code",
   "execution_count": 128,
   "metadata": {},
   "outputs": [],
   "source": [
    "%matplotlib inline\n",
    "\n",
    "# Task 1\n",
    "import pandas as pd\n",
    "import numpy as np\n",
    "import matplotlib.pyplot as plt\n",
    "from sklearn import preprocessing\n",
    "from sklearn import  linear_model\n",
    "import seaborn as sns\n",
    "\n",
    "import math\n",
    "np.set_printoptions(precision=3)\n",
    "plt.rcParams.update({'font.size': 22})\n",
    "path_X = \"../Project2/action.csv\"\n",
    "oX = pd.read_csv(path_X)\n",
    "path_Y = \"../Project2/alert.csv\"\n",
    "oY = pd.read_csv(path_Y)\n",
    "\n",
    "X = oX.copy()\n",
    "Y = oY.copy()"
   ]
  },
  {
   "cell_type": "code",
   "execution_count": 129,
   "metadata": {},
   "outputs": [
    {
     "name": "stdout",
     "output_type": "stream",
     "text": [
      "      0  1  2  3  4  5  6  7  8  9\n",
      "0     0  1  5  4  2  1  3  4  2  1\n",
      "1     0  0  0  1  5  4  2  1  3  4\n",
      "2     0  0  1  5  4  2  1  3  4  2\n",
      "3     0  0  0  0  0  0  0  0  1  5\n",
      "4     0  1  5  4  2  1  3  4  2  1\n",
      "...  .. .. .. .. .. .. .. .. .. ..\n",
      "1995  0  1  5  4  2  1  3  4  2  1\n",
      "1996  0  0  0  1  5  4  2  1  3  4\n",
      "1997  0  0  0  1  5  4  2  1  3  4\n",
      "1998  0  0  1  5  4  2  1  3  4  2\n",
      "1999  0  0  1  5  4  2  1  3  4  2\n",
      "\n",
      "[2000 rows x 10 columns]\n"
     ]
    }
   ],
   "source": [
    "attack_names_map = {\"Continue\":0,\"Ping Scan\":1,\"Install tools\":2,\"DVWA SQL Injection Exploit\":3,\"Network service login\":4,\"Sambacry Explolit\":5}\n",
    "X = X.replace(attack_names_map)\n",
    "print(X)"
   ]
  },
  {
   "cell_type": "code",
   "execution_count": 130,
   "metadata": {},
   "outputs": [
    {
     "name": "stdout",
     "output_type": "stream",
     "text": [
      "6&6.22e-01\\\\ \n",
      "7&6.04e-01\\\\ \n",
      "8&5.95e-01\\\\ \n",
      "9&5.81e-01\\\\ \n",
      "0.6218135644755878\n",
      "6\n"
     ]
    }
   ],
   "source": [
    "#Divide the alert in k clusters\n",
    "from sklearn.cluster import KMeans\n",
    "from sklearn.metrics import silhouette_score\n",
    "\n",
    "\n",
    "df = pd.DataFrame(columns=['attack','alert',\"timestep\"])\n",
    "count = 0\n",
    "rows_list = []\n",
    "unique_values = set()\n",
    "for index, row in X.iterrows():\n",
    "    \n",
    "    for col, value in row.items():\n",
    "        rows_list.append({\"attack\": value,\"alert\":Y.iloc[index][col],\"timestep\":col})\n",
    "        unique_values.add(Y.iloc[index][col])\n",
    "\n",
    "best_model = None\n",
    "best_score = 0\n",
    "clusters = 0\n",
    "np_unique = np.array(list(unique_values))\n",
    "\n",
    "for i in range(6,10):\n",
    "    kmeans = KMeans(n_clusters = i, random_state = 0, n_init='auto')\n",
    "    kmeans.fit(np_unique.reshape(-1, 1))\n",
    "    score = silhouette_score(np_unique.reshape(-1,1), kmeans.labels_, metric='euclidean')\n",
    "    p_score = '{:.2e}'.format(score)\n",
    "    print(f\"{i}&{p_score}\\\\\\ \")\n",
    "        \n",
    "     \n",
    "    if score > best_score:\n",
    "        best_model = kmeans\n",
    "        best_score = score\n",
    "        clusters = len(kmeans.cluster_centers_)\n",
    "\n",
    "\n",
    "\n",
    "print(best_score)\n",
    "print(clusters)"
   ]
  },
  {
   "cell_type": "code",
   "execution_count": 7,
   "metadata": {},
   "outputs": [],
   "source": [
    "# mapping = {}\n",
    "# Y = oY.copy()\n",
    "# pred = best_model.predict(np_unique.reshape(-1,1))\n",
    "# for i,x in enumerate(np_unique):\n",
    "#     mapping[x] = pred[i]\n",
    "# #print(len(mapping))\n",
    "# Y= Y.replace(mapping)"
   ]
  },
  {
   "cell_type": "code",
   "execution_count": 6,
   "metadata": {},
   "outputs": [],
   "source": [
    "# from sklearn.model_selection import train_test_split\n",
    "\n",
    "# X_train, X_test, y_train, y_test = train_test_split(X, Y, test_size=0.30, random_state=0)"
   ]
  },
  {
   "cell_type": "code",
   "execution_count": 131,
   "metadata": {},
   "outputs": [
    {
     "data": {
      "text/plain": "array([-0.379,  0.668, -0.502, ..., -0.558, -0.441, -0.557])"
     },
     "execution_count": 131,
     "metadata": {},
     "output_type": "execute_result"
    }
   ],
   "source": [
    "\n",
    "from scipy.stats import zscore\n",
    "\n",
    "Y = oY.copy()\n",
    "\n",
    "tmp = Y.to_numpy().reshape(1,20000)[0].tolist()\n",
    "\n",
    "mu = np.mean(tmp)\n",
    "sigma = np.std(tmp)\n",
    "\n",
    "z_scores = zscore(tmp)\n",
    "z_scores\n",
    "\n"
   ]
  },
  {
   "cell_type": "code",
   "execution_count": 132,
   "metadata": {},
   "outputs": [
    {
     "name": "stdout",
     "output_type": "stream",
     "text": [
      "6&5.72e-01\\\\ \n",
      "7&5.84e-01\\\\ \n",
      "8&5.74e-01\\\\ \n",
      "9&5.47e-01\\\\ \n",
      "0.5837840813088907\n",
      "7\n"
     ]
    }
   ],
   "source": [
    "best_model = None\n",
    "best_score = 0\n",
    "clusters = 0\n",
    "for i in range(6,10):\n",
    "    kmeans = KMeans(n_clusters = i, random_state = 0, n_init='auto')\n",
    "    kmeans.fit(z_scores.reshape(-1, 1))\n",
    "    score = silhouette_score(z_scores.reshape(-1,1), kmeans.labels_, metric='euclidean')\n",
    "    p_score = '{:.2e}'.format(score)\n",
    "    print(f\"{i}&{p_score}\\\\\\ \")\n",
    "        \n",
    "     \n",
    "    if score > best_score:\n",
    "        best_model = kmeans\n",
    "        best_score = score\n",
    "        clusters = len(kmeans.cluster_centers_)\n",
    "\n",
    "\n",
    "\n",
    "print(best_score)\n",
    "print(clusters)\n"
   ]
  },
  {
   "cell_type": "code",
   "execution_count": 133,
   "metadata": {},
   "outputs": [
    {
     "name": "stdout",
     "output_type": "stream",
     "text": [
      "[[-0.379  0.668 -0.502 ... -0.483 -0.499  1.879]\n",
      " [-0.775 -0.477 -0.808 ...  2.44  -0.391 -0.516]\n",
      " [-0.259 -0.782  1.015 ... -0.631 -0.593 -0.508]\n",
      " ...\n",
      " [-0.269 -0.502 -0.58  ...  2.228 -0.416 -0.512]\n",
      " [-0.602 -0.44   0.678 ... -0.557 -0.573 -0.092]\n",
      " [-0.573 -0.503  0.768 ... -0.558 -0.441 -0.557]]\n"
     ]
    }
   ],
   "source": [
    "\n",
    "tmp_z = z_scores.reshape(2000,10)\n",
    "print(tmp_z)\n",
    "Z = pd.DataFrame(tmp_z,columns=[str(i) for i in range(10)])\n"
   ]
  },
  {
   "cell_type": "code",
   "execution_count": 134,
   "metadata": {},
   "outputs": [],
   "source": [
    "import tensorflow as tf\n",
    "from tensorflow.keras import layers\n",
    "from keras.models import Sequential\n",
    "from keras.layers import Dense,LSTM\n",
    "import keras\n",
    "\n"
   ]
  },
  {
   "cell_type": "code",
   "execution_count": 137,
   "metadata": {},
   "outputs": [],
   "source": [
    "model = Sequential()\n",
    "model.add(LSTM(30, input_shape=(10,1)))\n",
    "#model.add(Dense(30, input_shape=(10,1)))\n",
    "model.add(Dense(10))\n",
    "model.compile(loss=\"mse\",optimizer=keras.optimizers.AdamW())"
   ]
  },
  {
   "cell_type": "code",
   "execution_count": 138,
   "metadata": {},
   "outputs": [],
   "source": [
    "from sklearn.model_selection import train_test_split\n",
    "\n",
    "X_train, X_test, y_train, y_test = train_test_split(X, Z, test_size=0.30, random_state=0)"
   ]
  },
  {
   "cell_type": "code",
   "execution_count": 139,
   "metadata": {},
   "outputs": [
    {
     "name": "stdout",
     "output_type": "stream",
     "text": [
      "Epoch 1/100\n",
      "44/44 [==============================] - 3s 20ms/step - loss: 5.9929 - val_loss: 3.9822\n",
      "Epoch 2/100\n",
      "44/44 [==============================] - 0s 7ms/step - loss: 2.2480 - val_loss: 1.7758\n",
      "Epoch 3/100\n",
      "44/44 [==============================] - 0s 7ms/step - loss: 1.7073 - val_loss: 1.6491\n",
      "Epoch 4/100\n",
      "44/44 [==============================] - 0s 7ms/step - loss: 1.6039 - val_loss: 1.5408\n",
      "Epoch 5/100\n",
      "44/44 [==============================] - 0s 7ms/step - loss: 1.4660 - val_loss: 1.3567\n",
      "Epoch 6/100\n",
      "44/44 [==============================] - 0s 7ms/step - loss: 1.2371 - val_loss: 1.1390\n",
      "Epoch 7/100\n",
      "44/44 [==============================] - 0s 8ms/step - loss: 1.0528 - val_loss: 1.0249\n",
      "Epoch 8/100\n",
      "44/44 [==============================] - 0s 9ms/step - loss: 0.9522 - val_loss: 0.9443\n",
      "Epoch 9/100\n",
      "44/44 [==============================] - 0s 8ms/step - loss: 0.8719 - val_loss: 0.8749\n",
      "Epoch 10/100\n",
      "44/44 [==============================] - 0s 8ms/step - loss: 0.8036 - val_loss: 0.8148\n",
      "Epoch 11/100\n",
      "44/44 [==============================] - 0s 8ms/step - loss: 0.7338 - val_loss: 0.7308\n",
      "Epoch 12/100\n",
      "44/44 [==============================] - 0s 10ms/step - loss: 0.6701 - val_loss: 0.6575\n",
      "Epoch 13/100\n",
      "44/44 [==============================] - 0s 9ms/step - loss: 0.5962 - val_loss: 0.5948\n",
      "Epoch 14/100\n",
      "44/44 [==============================] - 0s 8ms/step - loss: 0.5393 - val_loss: 0.5354\n",
      "Epoch 15/100\n",
      "44/44 [==============================] - 0s 7ms/step - loss: 0.4861 - val_loss: 0.4887\n",
      "Epoch 16/100\n",
      "44/44 [==============================] - 0s 7ms/step - loss: 0.4404 - val_loss: 0.4474\n",
      "Epoch 17/100\n",
      "44/44 [==============================] - 0s 7ms/step - loss: 0.3995 - val_loss: 0.4078\n",
      "Epoch 18/100\n",
      "44/44 [==============================] - 0s 8ms/step - loss: 0.3627 - val_loss: 0.3744\n",
      "Epoch 19/100\n",
      "44/44 [==============================] - 0s 7ms/step - loss: 0.3312 - val_loss: 0.3384\n",
      "Epoch 20/100\n",
      "44/44 [==============================] - 0s 7ms/step - loss: 0.2955 - val_loss: 0.3076\n",
      "Epoch 21/100\n",
      "44/44 [==============================] - 0s 8ms/step - loss: 0.2674 - val_loss: 0.2782\n",
      "Epoch 22/100\n",
      "44/44 [==============================] - 0s 7ms/step - loss: 0.2428 - val_loss: 0.2557\n",
      "Epoch 23/100\n",
      "44/44 [==============================] - 0s 7ms/step - loss: 0.2237 - val_loss: 0.2359\n",
      "Epoch 24/100\n",
      "44/44 [==============================] - 0s 7ms/step - loss: 0.1989 - val_loss: 0.2140\n",
      "Epoch 25/100\n",
      "44/44 [==============================] - 0s 8ms/step - loss: 0.1862 - val_loss: 0.2008\n",
      "Epoch 26/100\n",
      "44/44 [==============================] - 0s 7ms/step - loss: 0.1693 - val_loss: 0.1817\n",
      "Epoch 27/100\n",
      "44/44 [==============================] - 0s 7ms/step - loss: 0.1550 - val_loss: 0.1661\n",
      "Epoch 28/100\n",
      "44/44 [==============================] - 0s 8ms/step - loss: 0.1470 - val_loss: 0.1558\n",
      "Epoch 29/100\n",
      "44/44 [==============================] - 0s 7ms/step - loss: 0.1363 - val_loss: 0.1445\n",
      "Epoch 30/100\n",
      "44/44 [==============================] - 0s 7ms/step - loss: 0.1268 - val_loss: 0.1344\n",
      "Epoch 31/100\n",
      "44/44 [==============================] - 0s 7ms/step - loss: 0.1193 - val_loss: 0.1269\n",
      "Epoch 32/100\n",
      "44/44 [==============================] - 0s 7ms/step - loss: 0.1114 - val_loss: 0.1211\n",
      "Epoch 33/100\n",
      "44/44 [==============================] - 0s 8ms/step - loss: 0.1050 - val_loss: 0.1121\n",
      "Epoch 34/100\n",
      "44/44 [==============================] - 0s 9ms/step - loss: 0.0996 - val_loss: 0.1125\n",
      "Epoch 35/100\n",
      "44/44 [==============================] - 0s 8ms/step - loss: 0.0934 - val_loss: 0.1049\n",
      "Epoch 36/100\n",
      "44/44 [==============================] - 0s 7ms/step - loss: 0.0992 - val_loss: 0.0980\n",
      "Epoch 37/100\n",
      "44/44 [==============================] - 0s 8ms/step - loss: 0.0846 - val_loss: 0.0902\n",
      "Epoch 38/100\n",
      "44/44 [==============================] - 0s 10ms/step - loss: 0.0817 - val_loss: 0.0867\n",
      "Epoch 39/100\n",
      "44/44 [==============================] - 0s 7ms/step - loss: 0.0758 - val_loss: 0.0808\n",
      "Epoch 40/100\n",
      "44/44 [==============================] - 0s 7ms/step - loss: 0.0736 - val_loss: 0.0762\n",
      "Epoch 41/100\n",
      "44/44 [==============================] - 0s 8ms/step - loss: 0.0703 - val_loss: 0.0875\n",
      "Epoch 42/100\n",
      "44/44 [==============================] - 0s 7ms/step - loss: 0.0708 - val_loss: 0.0768\n",
      "Epoch 43/100\n",
      "44/44 [==============================] - 0s 7ms/step - loss: 0.0618 - val_loss: 0.0707\n",
      "Epoch 44/100\n",
      "44/44 [==============================] - 0s 8ms/step - loss: 0.0632 - val_loss: 0.0674\n",
      "Epoch 45/100\n",
      "44/44 [==============================] - 0s 8ms/step - loss: 0.0584 - val_loss: 0.0647\n",
      "Epoch 46/100\n",
      "44/44 [==============================] - 0s 7ms/step - loss: 0.0556 - val_loss: 0.0601\n",
      "Epoch 47/100\n",
      "44/44 [==============================] - 0s 7ms/step - loss: 0.0562 - val_loss: 0.0581\n",
      "Epoch 48/100\n",
      "44/44 [==============================] - 0s 7ms/step - loss: 0.0533 - val_loss: 0.0570\n",
      "Epoch 49/100\n",
      "44/44 [==============================] - 0s 7ms/step - loss: 0.0502 - val_loss: 0.0574\n",
      "Epoch 50/100\n",
      "44/44 [==============================] - 0s 7ms/step - loss: 0.0499 - val_loss: 0.0520\n",
      "Epoch 51/100\n",
      "44/44 [==============================] - 0s 7ms/step - loss: 0.0449 - val_loss: 0.0515\n",
      "Epoch 52/100\n",
      "44/44 [==============================] - 0s 7ms/step - loss: 0.0472 - val_loss: 0.0483\n",
      "Epoch 53/100\n",
      "44/44 [==============================] - 0s 7ms/step - loss: 0.0431 - val_loss: 0.0512\n",
      "Epoch 54/100\n",
      "44/44 [==============================] - 0s 8ms/step - loss: 0.0427 - val_loss: 0.0509\n",
      "Epoch 55/100\n",
      "44/44 [==============================] - 0s 8ms/step - loss: 0.0422 - val_loss: 0.0471\n",
      "Epoch 56/100\n",
      "44/44 [==============================] - 0s 7ms/step - loss: 0.0393 - val_loss: 0.0434\n",
      "Epoch 57/100\n",
      "44/44 [==============================] - 0s 7ms/step - loss: 0.0370 - val_loss: 0.0413\n",
      "Epoch 58/100\n",
      "44/44 [==============================] - 0s 7ms/step - loss: 0.0367 - val_loss: 0.0462\n",
      "Epoch 59/100\n",
      "44/44 [==============================] - 0s 7ms/step - loss: 0.0366 - val_loss: 0.0392\n",
      "Epoch 60/100\n",
      "44/44 [==============================] - 0s 7ms/step - loss: 0.0360 - val_loss: 0.0382\n",
      "Epoch 61/100\n",
      "44/44 [==============================] - 0s 7ms/step - loss: 0.0327 - val_loss: 0.0436\n",
      "Epoch 62/100\n",
      "44/44 [==============================] - 0s 7ms/step - loss: 0.0339 - val_loss: 0.0370\n",
      "Epoch 63/100\n",
      "44/44 [==============================] - 0s 7ms/step - loss: 0.0322 - val_loss: 0.0370\n",
      "Epoch 64/100\n",
      "44/44 [==============================] - 0s 7ms/step - loss: 0.0317 - val_loss: 0.0336\n",
      "Epoch 65/100\n",
      "44/44 [==============================] - 0s 7ms/step - loss: 0.0309 - val_loss: 0.0380\n",
      "Epoch 66/100\n",
      "44/44 [==============================] - 0s 6ms/step - loss: 0.0286 - val_loss: 0.0351\n",
      "Epoch 67/100\n",
      "44/44 [==============================] - 0s 7ms/step - loss: 0.0299 - val_loss: 0.0362\n",
      "Epoch 68/100\n",
      "44/44 [==============================] - 0s 7ms/step - loss: 0.0293 - val_loss: 0.0391\n",
      "Epoch 69/100\n",
      "44/44 [==============================] - 0s 7ms/step - loss: 0.0270 - val_loss: 0.0313\n",
      "Epoch 70/100\n",
      "44/44 [==============================] - 0s 7ms/step - loss: 0.0278 - val_loss: 0.0397\n",
      "Epoch 71/100\n",
      "44/44 [==============================] - 0s 7ms/step - loss: 0.0282 - val_loss: 0.0296\n",
      "Epoch 72/100\n",
      "44/44 [==============================] - 0s 7ms/step - loss: 0.0251 - val_loss: 0.0277\n",
      "Epoch 73/100\n",
      "44/44 [==============================] - 0s 7ms/step - loss: 0.0247 - val_loss: 0.0327\n",
      "Epoch 74/100\n",
      "44/44 [==============================] - 0s 7ms/step - loss: 0.0249 - val_loss: 0.0272\n",
      "Epoch 75/100\n",
      "44/44 [==============================] - 0s 7ms/step - loss: 0.0225 - val_loss: 0.0290\n",
      "Epoch 76/100\n",
      "44/44 [==============================] - 0s 8ms/step - loss: 0.0234 - val_loss: 0.0280\n",
      "Epoch 77/100\n",
      "44/44 [==============================] - 0s 8ms/step - loss: 0.0226 - val_loss: 0.0295\n",
      "Epoch 78/100\n",
      "44/44 [==============================] - 0s 7ms/step - loss: 0.0230 - val_loss: 0.0252\n",
      "Epoch 79/100\n",
      "44/44 [==============================] - 0s 9ms/step - loss: 0.0224 - val_loss: 0.0248\n",
      "Epoch 80/100\n",
      "44/44 [==============================] - 0s 8ms/step - loss: 0.0222 - val_loss: 0.0226\n",
      "Epoch 81/100\n",
      "44/44 [==============================] - 0s 8ms/step - loss: 0.0198 - val_loss: 0.0220\n",
      "Epoch 82/100\n",
      "44/44 [==============================] - 0s 7ms/step - loss: 0.0195 - val_loss: 0.0252\n",
      "Epoch 83/100\n",
      "44/44 [==============================] - 0s 7ms/step - loss: 0.0192 - val_loss: 0.0237\n",
      "Epoch 84/100\n",
      "44/44 [==============================] - 0s 8ms/step - loss: 0.0180 - val_loss: 0.0212\n",
      "Epoch 85/100\n",
      "44/44 [==============================] - 0s 7ms/step - loss: 0.0211 - val_loss: 0.0202\n",
      "Epoch 86/100\n",
      "44/44 [==============================] - 0s 7ms/step - loss: 0.0202 - val_loss: 0.0209\n",
      "Epoch 87/100\n",
      "44/44 [==============================] - 0s 7ms/step - loss: 0.0187 - val_loss: 0.0208\n",
      "Epoch 88/100\n",
      "44/44 [==============================] - 0s 7ms/step - loss: 0.0174 - val_loss: 0.0248\n",
      "Epoch 89/100\n",
      "44/44 [==============================] - 0s 7ms/step - loss: 0.0179 - val_loss: 0.0200\n",
      "Epoch 90/100\n",
      "44/44 [==============================] - 0s 7ms/step - loss: 0.0176 - val_loss: 0.0226\n",
      "Epoch 91/100\n",
      "44/44 [==============================] - 0s 7ms/step - loss: 0.0172 - val_loss: 0.0182\n",
      "Epoch 92/100\n",
      "44/44 [==============================] - 0s 7ms/step - loss: 0.0154 - val_loss: 0.0215\n",
      "Epoch 93/100\n",
      "44/44 [==============================] - 0s 7ms/step - loss: 0.0173 - val_loss: 0.0181\n",
      "Epoch 94/100\n",
      "44/44 [==============================] - 0s 7ms/step - loss: 0.0160 - val_loss: 0.0158\n",
      "Epoch 95/100\n",
      "44/44 [==============================] - 0s 7ms/step - loss: 0.0146 - val_loss: 0.0156\n",
      "Epoch 96/100\n",
      "44/44 [==============================] - 0s 7ms/step - loss: 0.0140 - val_loss: 0.0149\n",
      "Epoch 97/100\n",
      "44/44 [==============================] - 0s 7ms/step - loss: 0.0139 - val_loss: 0.0198\n",
      "Epoch 98/100\n",
      "44/44 [==============================] - 0s 7ms/step - loss: 0.0172 - val_loss: 0.0157\n",
      "Epoch 99/100\n",
      "44/44 [==============================] - 0s 7ms/step - loss: 0.0125 - val_loss: 0.0220\n",
      "Epoch 100/100\n",
      "44/44 [==============================] - 0s 7ms/step - loss: 0.0129 - val_loss: 0.0143\n"
     ]
    }
   ],
   "source": [
    "history = model.fit(x=y_train, y= X_train,validation_data=(y_test, X_test),epochs=100)\n"
   ]
  },
  {
   "cell_type": "code",
   "execution_count": 140,
   "metadata": {},
   "outputs": [],
   "source": [
    "pred = model.predict(y_test,verbose=0)\n"
   ]
  },
  {
   "cell_type": "code",
   "execution_count": 74,
   "metadata": {},
   "outputs": [
    {
     "data": {
      "text/plain": "array([-3.527e-03, -1.077e-02,  1.055e+00,  4.859e+00,  3.990e+00,\n        2.045e+00,  9.658e-01,  3.048e+00,  4.077e+00,  2.001e+00],\n      dtype=float32)"
     },
     "execution_count": 74,
     "metadata": {},
     "output_type": "execute_result"
    }
   ],
   "source": [
    "pred[0]"
   ]
  },
  {
   "cell_type": "code",
   "execution_count": 73,
   "metadata": {},
   "outputs": [
    {
     "data": {
      "text/html": "<div>\n<style scoped>\n    .dataframe tbody tr th:only-of-type {\n        vertical-align: middle;\n    }\n\n    .dataframe tbody tr th {\n        vertical-align: top;\n    }\n\n    .dataframe thead th {\n        text-align: right;\n    }\n</style>\n<table border=\"1\" class=\"dataframe\">\n  <thead>\n    <tr style=\"text-align: right;\">\n      <th></th>\n      <th>0</th>\n      <th>1</th>\n      <th>2</th>\n      <th>3</th>\n      <th>4</th>\n      <th>5</th>\n      <th>6</th>\n      <th>7</th>\n      <th>8</th>\n      <th>9</th>\n    </tr>\n  </thead>\n  <tbody>\n    <tr>\n      <th>405</th>\n      <td>0</td>\n      <td>0</td>\n      <td>1</td>\n      <td>5</td>\n      <td>4</td>\n      <td>2</td>\n      <td>1</td>\n      <td>3</td>\n      <td>4</td>\n      <td>2</td>\n    </tr>\n    <tr>\n      <th>1190</th>\n      <td>0</td>\n      <td>1</td>\n      <td>5</td>\n      <td>4</td>\n      <td>2</td>\n      <td>1</td>\n      <td>3</td>\n      <td>4</td>\n      <td>2</td>\n      <td>1</td>\n    </tr>\n    <tr>\n      <th>1132</th>\n      <td>0</td>\n      <td>0</td>\n      <td>0</td>\n      <td>0</td>\n      <td>0</td>\n      <td>1</td>\n      <td>5</td>\n      <td>4</td>\n      <td>2</td>\n      <td>1</td>\n    </tr>\n    <tr>\n      <th>731</th>\n      <td>0</td>\n      <td>0</td>\n      <td>1</td>\n      <td>5</td>\n      <td>4</td>\n      <td>2</td>\n      <td>1</td>\n      <td>3</td>\n      <td>4</td>\n      <td>2</td>\n    </tr>\n    <tr>\n      <th>1754</th>\n      <td>0</td>\n      <td>0</td>\n      <td>1</td>\n      <td>5</td>\n      <td>4</td>\n      <td>2</td>\n      <td>1</td>\n      <td>3</td>\n      <td>4</td>\n      <td>2</td>\n    </tr>\n    <tr>\n      <th>...</th>\n      <td>...</td>\n      <td>...</td>\n      <td>...</td>\n      <td>...</td>\n      <td>...</td>\n      <td>...</td>\n      <td>...</td>\n      <td>...</td>\n      <td>...</td>\n      <td>...</td>\n    </tr>\n    <tr>\n      <th>841</th>\n      <td>0</td>\n      <td>1</td>\n      <td>5</td>\n      <td>4</td>\n      <td>2</td>\n      <td>1</td>\n      <td>3</td>\n      <td>4</td>\n      <td>2</td>\n      <td>1</td>\n    </tr>\n    <tr>\n      <th>108</th>\n      <td>0</td>\n      <td>0</td>\n      <td>1</td>\n      <td>5</td>\n      <td>4</td>\n      <td>2</td>\n      <td>1</td>\n      <td>3</td>\n      <td>4</td>\n      <td>2</td>\n    </tr>\n    <tr>\n      <th>665</th>\n      <td>0</td>\n      <td>0</td>\n      <td>0</td>\n      <td>0</td>\n      <td>1</td>\n      <td>5</td>\n      <td>4</td>\n      <td>2</td>\n      <td>1</td>\n      <td>3</td>\n    </tr>\n    <tr>\n      <th>1214</th>\n      <td>0</td>\n      <td>0</td>\n      <td>0</td>\n      <td>1</td>\n      <td>5</td>\n      <td>4</td>\n      <td>2</td>\n      <td>1</td>\n      <td>3</td>\n      <td>4</td>\n    </tr>\n    <tr>\n      <th>2</th>\n      <td>0</td>\n      <td>0</td>\n      <td>1</td>\n      <td>5</td>\n      <td>4</td>\n      <td>2</td>\n      <td>1</td>\n      <td>3</td>\n      <td>4</td>\n      <td>2</td>\n    </tr>\n  </tbody>\n</table>\n<p>600 rows × 10 columns</p>\n</div>",
      "text/plain": "      0  1  2  3  4  5  6  7  8  9\n405   0  0  1  5  4  2  1  3  4  2\n1190  0  1  5  4  2  1  3  4  2  1\n1132  0  0  0  0  0  1  5  4  2  1\n731   0  0  1  5  4  2  1  3  4  2\n1754  0  0  1  5  4  2  1  3  4  2\n...  .. .. .. .. .. .. .. .. .. ..\n841   0  1  5  4  2  1  3  4  2  1\n108   0  0  1  5  4  2  1  3  4  2\n665   0  0  0  0  1  5  4  2  1  3\n1214  0  0  0  1  5  4  2  1  3  4\n2     0  0  1  5  4  2  1  3  4  2\n\n[600 rows x 10 columns]"
     },
     "execution_count": 73,
     "metadata": {},
     "output_type": "execute_result"
    }
   ],
   "source": [
    "X_test"
   ]
  },
  {
   "cell_type": "code",
   "execution_count": 141,
   "metadata": {},
   "outputs": [],
   "source": [
    "import math\n",
    "def approximate_number(number):\n",
    "    \n",
    "    if number < 0 :\n",
    "        return 0\n",
    "    decimal_part = number - int(number)\n",
    "    if decimal_part < 0.5:\n",
    "        # Round down if the decimal is under 0.5\n",
    "        result = math.floor(number)\n",
    "    else:\n",
    "        # Round up if the decimal is 0.5 or greater\n",
    "        result = math.ceil(number)\n",
    "\n",
    "    return result"
   ]
  },
  {
   "cell_type": "code",
   "execution_count": 142,
   "metadata": {},
   "outputs": [
    {
     "name": "stdout",
     "output_type": "stream",
     "text": [
      "            0         1         2         3         4         5         6  \\\n",
      "0   -0.001563 -0.009739  0.981007  4.971360  4.015004  2.045628  0.991152   \n",
      "1    0.002797  1.000996  4.978779  4.048113  2.050720  1.048233  2.990760   \n",
      "2   -0.001556  0.023628  0.288092  0.319740  0.311585  1.057374  5.006852   \n",
      "3   -0.002794 -0.024110  0.952688  4.934631  4.037838  2.067867  1.006589   \n",
      "4   -0.002465  0.077448  1.088772  4.151167  3.599786  1.809496  0.896695   \n",
      "..        ...       ...       ...       ...       ...       ...       ...   \n",
      "595  0.005126  1.006630  5.084984  3.939267  1.944337  0.939252  3.019907   \n",
      "596 -0.000330 -0.010016  0.992163  4.990530  4.016936  2.031615  0.986985   \n",
      "597  0.000411 -0.012307 -0.017762  0.002913  0.979899  4.976205  3.994645   \n",
      "598 -0.011846 -0.055931  0.066611  1.153703  4.885559  3.804556  1.814026   \n",
      "599 -0.005146 -0.023527  1.017498  5.045705  4.035865  2.006443  1.001480   \n",
      "\n",
      "            7         8         9  \n",
      "0    3.014733  4.033745  2.023998  \n",
      "1    4.000134  2.029190  1.040122  \n",
      "2    4.117397  1.939960  1.070519  \n",
      "3    3.013576  4.019345  2.075850  \n",
      "4    3.175839  3.913372  2.095164  \n",
      "..        ...       ...       ...  \n",
      "595  4.054623  1.984250  0.941955  \n",
      "596  3.010052  4.022253  2.030212  \n",
      "597  2.033109  1.025436  3.024245  \n",
      "598  0.936285  3.184321  3.991184  \n",
      "599  3.023010  3.994592  1.992577  \n",
      "\n",
      "[600 rows x 10 columns]\n",
      "     0  1  2  3  4  5  6  7  8  9\n",
      "0    0  0  1  5  4  2  1  3  4  2\n",
      "1    0  1  5  4  2  1  3  4  2  1\n",
      "2    0  0  0  0  0  1  5  4  2  1\n",
      "3    0  0  1  5  4  2  1  3  4  2\n",
      "4    0  0  1  4  4  2  1  3  4  2\n",
      "..  .. .. .. .. .. .. .. .. .. ..\n",
      "595  0  1  5  4  2  1  3  4  2  1\n",
      "596  0  0  1  5  4  2  1  3  4  2\n",
      "597  0  0  0  0  1  5  4  2  1  3\n",
      "598  0  0  0  1  5  4  2  1  3  4\n",
      "599  0  0  1  5  4  2  1  3  4  2\n",
      "\n",
      "[600 rows x 10 columns]\n"
     ]
    }
   ],
   "source": [
    "tmp_pred = pred.copy()\n",
    "tmp_pred = pd.DataFrame(tmp_pred,columns=[str(x) for x in range(10)])\n",
    "print(tmp_pred)\n",
    "for idx,(index, row) in enumerate(tmp_pred.iterrows()):\n",
    "    \n",
    "        for col, value in row.items():\n",
    "            tmp_pred.iloc[idx][col] = int(approximate_number(value))\n",
    "\n",
    "\n",
    "tmp_pred = tmp_pred.astype(int)\n",
    "print(tmp_pred)\n",
    "\n",
    "\n",
    "                "
   ]
  },
  {
   "cell_type": "code",
   "execution_count": null,
   "metadata": {},
   "outputs": [],
   "source": []
  },
  {
   "cell_type": "code",
   "execution_count": 143,
   "metadata": {},
   "outputs": [],
   "source": [
    "X_test\n",
    "\n",
    "tmp_xtest = X_test.copy()"
   ]
  },
  {
   "cell_type": "code",
   "execution_count": 144,
   "metadata": {},
   "outputs": [],
   "source": [
    "tmp_xtest = tmp_xtest.reset_index()\n",
    "del tmp_xtest[\"index\"]"
   ]
  },
  {
   "cell_type": "code",
   "execution_count": 152,
   "metadata": {},
   "outputs": [
    {
     "data": {
      "text/plain": "0.9766666666666667"
     },
     "execution_count": 152,
     "metadata": {},
     "output_type": "execute_result"
    }
   ],
   "source": [
    "def starting_accuracy(pred,seq):\n",
    "    right = 0\n",
    "    total = 0\n",
    "    for idx,e in enumerate(pred.to_numpy()):\n",
    "        total+=1\n",
    "        \n",
    "        \n",
    "        for k in range(10):\n",
    "            if seq.iloc[idx].to_numpy().tolist()[k] == 0 and pred.iloc[idx].to_numpy().tolist()[k] == 0:\n",
    "                continue\n",
    "            else:\n",
    "                if seq.iloc[idx].to_numpy().tolist()[k] != 0 and  pred.iloc[idx].to_numpy().tolist()[k] != 0:\n",
    "                    right+=1\n",
    "                    break\n",
    "                else:\n",
    "                    break\n",
    "    return right/total\n",
    "\n",
    "acc_start = starting_accuracy(tmp_pred,tmp_xtest)\n",
    "acc_start"
   ]
  },
  {
   "cell_type": "code",
   "execution_count": 146,
   "metadata": {},
   "outputs": [
    {
     "data": {
      "text/plain": "0.9928333333333333"
     },
     "execution_count": 146,
     "metadata": {},
     "output_type": "execute_result"
    }
   ],
   "source": [
    "def overall_accuracy(pred,seq):\n",
    "    right = 0\n",
    "    total = 0\n",
    "    for idx,e in enumerate(pred.to_numpy()):\n",
    "        \n",
    "        for k in range(10):\n",
    "            total+=1\n",
    "            if pred.iloc[idx].to_numpy().tolist()[k] == seq.iloc[idx].to_numpy().tolist()[k]:\n",
    "                right+=1\n",
    "    return right/total\n",
    "\n",
    "acc_ov = overall_accuracy(tmp_pred,tmp_xtest)\n",
    "acc_ov"
   ]
  },
  {
   "cell_type": "code",
   "execution_count": 109,
   "metadata": {},
   "outputs": [
    {
     "name": "stdout",
     "output_type": "stream",
     "text": [
      "             0         1         2         3         4         5         6  \\\n",
      "0    -0.379093  0.668370 -0.502380 -0.515193  0.018571  2.048226 -0.488118   \n",
      "1    -0.774822 -0.476514 -0.808182  1.100361 -0.625910 -0.737111 -0.558948   \n",
      "2    -0.258947 -0.781833  1.014785 -0.008020 -0.511566 -0.580463  1.886018   \n",
      "3    -0.565716 -0.713420 -0.599077 -0.734451 -0.620833 -0.516160 -0.664347   \n",
      "4    -0.413178  0.460473 -0.474580 -0.471196 -0.195128  2.116397 -0.635580   \n",
      "...        ...       ...       ...       ...       ...       ...       ...   \n",
      "1995 -0.506973  0.798185  0.007209 -0.596176 -0.144121  2.591901 -0.347425   \n",
      "1996 -0.578287 -0.390696 -0.571276  1.253625 -0.366039 -0.394322 -0.065797   \n",
      "1997 -0.268859 -0.501655 -0.579737  0.830095 -0.367489 -0.482074 -0.423331   \n",
      "1998 -0.602219 -0.439528  0.678040 -0.029294 -0.449923  0.095445  2.387389   \n",
      "1999 -0.573210 -0.503347  0.767726 -0.639206 -0.626635 -0.488359  2.412288   \n",
      "\n",
      "             7         8         9  \n",
      "0    -0.482558 -0.498996  1.878766  \n",
      "1     2.440330 -0.391421 -0.516160  \n",
      "2    -0.630503 -0.592791 -0.507940  \n",
      "3    -0.652743  0.537105 -0.576836  \n",
      "4    -0.421155  0.206645  2.107695  \n",
      "...        ...       ...       ...  \n",
      "1995 -0.549278 -0.488843  2.096816  \n",
      "1996  2.560717 -0.663621 -0.487151  \n",
      "1997  2.227598 -0.416321 -0.512050  \n",
      "1998 -0.556530 -0.573210 -0.092146  \n",
      "1999 -0.557981 -0.440736 -0.556772  \n",
      "\n",
      "[2000 rows x 10 columns]\n",
      "[[-6.087e-03  9.745e-01  4.902e+00 ...  4.044e+00  2.016e+00  1.012e+00]\n",
      " [ 1.638e-03 -1.389e-02 -4.256e-02 ...  9.691e-01  2.989e+00  4.020e+00]\n",
      " [ 7.870e-03 -5.708e-03  9.904e-01 ...  2.996e+00  4.003e+00  2.018e+00]\n",
      " ...\n",
      " [ 1.017e-02 -3.626e-03 -1.242e-02 ...  9.701e-01  3.013e+00  4.022e+00]\n",
      " [ 2.069e-02 -9.194e-03  1.034e+00 ...  2.996e+00  4.032e+00  2.007e+00]\n",
      " [ 5.216e-03 -7.868e-03  9.658e-01 ...  2.986e+00  4.001e+00  2.038e+00]]\n",
      "0.989 0.99545\n"
     ]
    }
   ],
   "source": [
    "#OVERFITTING CHECK\n",
    "\n",
    "\n",
    "overfittingX = pd.read_csv(\"../data2-Testing/action.csv\")\n",
    "attack_names_map = {\"Continue\":0,\"Ping Scan\":1,\"Install tools\":2,\"DVWA SQL Injection Exploit\":3,\"Network service login\":4,\"Sambacry Explolit\":5}\n",
    "ovX = overfittingX.replace(attack_names_map)\n",
    "overfittingY = pd.read_csv(\"../data2-Testing/alert.csv\")\n",
    "ovtmp = Y.to_numpy().reshape(1,20000)[0].tolist()\n",
    "ovz_scores = zscore(ovtmp)\n",
    "ovz_scores\n",
    "ovz = ovz_scores.reshape(2000,10)\n",
    "oZ = pd.DataFrame(ovz,columns=[str(i) for i in range(10)])\n",
    "print(oZ)\n",
    "pred = model.predict(oZ,verbose=0)\n",
    "print(pred)\n",
    "pred = pd.DataFrame(pred,columns=[str(x) for x in range(10)])\n",
    "\n",
    "for idx,(index, row) in enumerate(pred.iterrows()):\n",
    "    \n",
    "        for col, value in row.items():\n",
    "            pred.iloc[idx][col] = int(approximate_number(value))\n",
    "\n",
    "\n",
    "pred = pred.astype(int)\n",
    "\n",
    "acc_start = starting_accuracy(pred,X)\n",
    "acc_ov = overall_accuracy(pred,X)\n",
    "\n",
    "print(acc_start,acc_ov)\n",
    "\n"
   ]
  },
  {
   "cell_type": "code",
   "execution_count": null,
   "metadata": {},
   "outputs": [],
   "source": []
  }
 ],
 "metadata": {
  "kernelspec": {
   "display_name": "Python 3.11.6 64-bit",
   "name": "python3116jvsc74a57bd0aee8b7b246df8f9039afb4144a1f6fd8d2ca17a180786b69acc140d282b71a49"
  },
  "language_info": {
   "codemirror_mode": {
    "name": "ipython",
    "version": 3
   },
   "file_extension": ".py",
   "mimetype": "text/x-python",
   "name": "python",
   "nbconvert_exporter": "python",
   "pygments_lexer": "ipython3",
   "version": "3.11.6"
  },
  "metadata": {
   "interpreter": {
    "hash": "aee8b7b246df8f9039afb4144a1f6fd8d2ca17a180786b69acc140d282b71a49"
   }
  }
 },
 "nbformat": 4,
 "nbformat_minor": 5
}