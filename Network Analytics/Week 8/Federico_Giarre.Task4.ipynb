{
 "cells": [
  {
   "cell_type": "code",
   "execution_count": 83,
   "metadata": {},
   "outputs": [],
   "source": [
    "%matplotlib inline\n",
    "\n",
    "# Task 1\n",
    "import pandas as pd\n",
    "import numpy as np\n",
    "import matplotlib.pyplot as plt\n",
    "from sklearn import preprocessing\n",
    "from sklearn import  linear_model\n",
    "import seaborn as sns\n",
    "\n",
    "import math\n",
    "np.set_printoptions(precision=3)\n",
    "plt.rcParams.update({'font.size': 22})\n",
    "path_X = \"../Project2/action.csv\"\n",
    "oX = pd.read_csv(path_X)\n",
    "path_Y = \"../Project2/alert.csv\"\n",
    "oY = pd.read_csv(path_Y)\n",
    "\n",
    "X = oX.copy()\n",
    "Y = oY.copy()"
   ]
  },
  {
   "cell_type": "code",
   "execution_count": 84,
   "metadata": {},
   "outputs": [],
   "source": [
    "attack_names_map = {\"Continue\":0,\"Ping Scan\":1,\"Install tools\":2,\"DVWA SQL Injection Exploit\":3,\"Network service login\":4,\"Sambacry Explolit\":5}\n",
    "X = X.replace(attack_names_map)"
   ]
  },
  {
   "cell_type": "code",
   "execution_count": 85,
   "metadata": {},
   "outputs": [],
   "source": [
    "from sklearn.model_selection import train_test_split\n",
    "\n",
    "\n",
    "\n",
    "X_train, X_test, y_train, y_test = train_test_split(Y, X, test_size=0.30, random_state=0)"
   ]
  },
  {
   "cell_type": "code",
   "execution_count": 162,
   "metadata": {},
   "outputs": [],
   "source": [
    "traindf = pd.DataFrame(columns=['attack','alert',\"timestep\"])\n",
    "count = 0\n",
    "rows_list = []\n",
    "for index, row in X_train.iterrows():\n",
    "    \n",
    "    for col, value in row.items():\n",
    " \n",
    "        rows_list.append({\"alert\": value,\"attack\":y_train.loc[index][col],\"timestep\":int(col),\"index\":index,\"pred_alert\":X_train.loc[index][int(col)-1] if int(col)>0 else 0,\"succ_alert\": X_train.loc[index][int(col)+1] if int(col)<9 else 0, \"pred_alert2\":X_train.loc[index][int(col)-2] if int(col)>1 else 0,\"succ_alert2\":X_train.loc[index][int(col)+2] if int(col)<8 else 0})\n",
    "        \n",
    "traindf = pd.DataFrame(rows_list)\n",
    "\n",
    "testdf = pd.DataFrame(columns=['attack','alert',\"timestep\"])\n",
    "count = 0\n",
    "rows_list = []\n",
    "for index, row in X_test.iterrows():\n",
    "    \n",
    "    for col, value in row.items():\n",
    "        rows_list.append({\"alert\": value,\"attack\":y_test.loc[index][col],\"timestep\":int(col),\"index\":index,\"pred_alert\":X_test.loc[index][int(col)-1] if int(col)>0 else 0,\"succ_alert\": X_test.loc[index][int(col)+1] if int(col)<9 else 0,\"pred_alert2\":X_test.loc[index][int(col)-2] if int(col)>1 else 0,\"succ_alert2\":X_test.loc[index][int(col)+2] if int(col)<8 else 0 })\n",
    "        \n",
    "testdf = pd.DataFrame(rows_list)\n"
   ]
  },
  {
   "cell_type": "code",
   "execution_count": 163,
   "metadata": {},
   "outputs": [
    {
     "data": {
      "text/html": "<div>\n<style scoped>\n    .dataframe tbody tr th:only-of-type {\n        vertical-align: middle;\n    }\n\n    .dataframe tbody tr th {\n        vertical-align: top;\n    }\n\n    .dataframe thead th {\n        text-align: right;\n    }\n</style>\n<table border=\"1\" class=\"dataframe\">\n  <thead>\n    <tr style=\"text-align: right;\">\n      <th></th>\n      <th>alert</th>\n      <th>timestep</th>\n    </tr>\n  </thead>\n  <tbody>\n    <tr>\n      <th>0</th>\n      <td>2237</td>\n      <td>0</td>\n    </tr>\n    <tr>\n      <th>1</th>\n      <td>1661</td>\n      <td>1</td>\n    </tr>\n    <tr>\n      <th>2</th>\n      <td>7473</td>\n      <td>2</td>\n    </tr>\n    <tr>\n      <th>3</th>\n      <td>2815</td>\n      <td>3</td>\n    </tr>\n    <tr>\n      <th>4</th>\n      <td>2386</td>\n      <td>4</td>\n    </tr>\n    <tr>\n      <th>...</th>\n      <td>...</td>\n      <td>...</td>\n    </tr>\n    <tr>\n      <th>5995</th>\n      <td>2176</td>\n      <td>5</td>\n    </tr>\n    <tr>\n      <th>5996</th>\n      <td>12379</td>\n      <td>6</td>\n    </tr>\n    <tr>\n      <th>5997</th>\n      <td>1969</td>\n      <td>7</td>\n    </tr>\n    <tr>\n      <th>5998</th>\n      <td>2125</td>\n      <td>8</td>\n    </tr>\n    <tr>\n      <th>5999</th>\n      <td>2476</td>\n      <td>9</td>\n    </tr>\n  </tbody>\n</table>\n<p>6000 rows × 2 columns</p>\n</div>",
      "text/plain": "      alert  timestep\n0      2237         0\n1      1661         1\n2      7473         2\n3      2815         3\n4      2386         4\n...     ...       ...\n5995   2176         5\n5996  12379         6\n5997   1969         7\n5998   2125         8\n5999   2476         9\n\n[6000 rows x 2 columns]"
     },
     "execution_count": 163,
     "metadata": {},
     "output_type": "execute_result"
    }
   ],
   "source": [
    "X_train_norm = traindf[[\"alert\",\"timestep\"]]\n",
    "Y_train_norm = traindf[[\"attack\"]]\n",
    "\n",
    "X_test_norm = testdf[[\"alert\",\"timestep\"]]\n",
    "Y_test_norm = testdf[[\"attack\"]]\n",
    "\n",
    "X_test_norm"
   ]
  },
  {
   "cell_type": "code",
   "execution_count": 71,
   "metadata": {},
   "outputs": [
    {
     "data": {
      "text/html": "<div>\n<style scoped>\n    .dataframe tbody tr th:only-of-type {\n        vertical-align: middle;\n    }\n\n    .dataframe tbody tr th {\n        vertical-align: top;\n    }\n\n    .dataframe thead th {\n        text-align: right;\n    }\n</style>\n<table border=\"1\" class=\"dataframe\">\n  <thead>\n    <tr style=\"text-align: right;\">\n      <th></th>\n      <th>attack</th>\n    </tr>\n  </thead>\n  <tbody>\n    <tr>\n      <th>0</th>\n      <td>0</td>\n    </tr>\n    <tr>\n      <th>1</th>\n      <td>0</td>\n    </tr>\n    <tr>\n      <th>2</th>\n      <td>1</td>\n    </tr>\n    <tr>\n      <th>3</th>\n      <td>5</td>\n    </tr>\n    <tr>\n      <th>4</th>\n      <td>4</td>\n    </tr>\n    <tr>\n      <th>...</th>\n      <td>...</td>\n    </tr>\n    <tr>\n      <th>13995</th>\n      <td>1</td>\n    </tr>\n    <tr>\n      <th>13996</th>\n      <td>3</td>\n    </tr>\n    <tr>\n      <th>13997</th>\n      <td>4</td>\n    </tr>\n    <tr>\n      <th>13998</th>\n      <td>2</td>\n    </tr>\n    <tr>\n      <th>13999</th>\n      <td>1</td>\n    </tr>\n  </tbody>\n</table>\n<p>14000 rows × 1 columns</p>\n</div>",
      "text/plain": "       attack\n0           0\n1           0\n2           1\n3           5\n4           4\n...       ...\n13995       1\n13996       3\n13997       4\n13998       2\n13999       1\n\n[14000 rows x 1 columns]"
     },
     "execution_count": 71,
     "metadata": {},
     "output_type": "execute_result"
    }
   ],
   "source": [
    "Y_train_norm"
   ]
  },
  {
   "cell_type": "code",
   "execution_count": 164,
   "metadata": {},
   "outputs": [
    {
     "data": {
      "text/html": "<style>#sk-container-id-19 {color: black;}#sk-container-id-19 pre{padding: 0;}#sk-container-id-19 div.sk-toggleable {background-color: white;}#sk-container-id-19 label.sk-toggleable__label {cursor: pointer;display: block;width: 100%;margin-bottom: 0;padding: 0.3em;box-sizing: border-box;text-align: center;}#sk-container-id-19 label.sk-toggleable__label-arrow:before {content: \"▸\";float: left;margin-right: 0.25em;color: #696969;}#sk-container-id-19 label.sk-toggleable__label-arrow:hover:before {color: black;}#sk-container-id-19 div.sk-estimator:hover label.sk-toggleable__label-arrow:before {color: black;}#sk-container-id-19 div.sk-toggleable__content {max-height: 0;max-width: 0;overflow: hidden;text-align: left;background-color: #f0f8ff;}#sk-container-id-19 div.sk-toggleable__content pre {margin: 0.2em;color: black;border-radius: 0.25em;background-color: #f0f8ff;}#sk-container-id-19 input.sk-toggleable__control:checked~div.sk-toggleable__content {max-height: 200px;max-width: 100%;overflow: auto;}#sk-container-id-19 input.sk-toggleable__control:checked~label.sk-toggleable__label-arrow:before {content: \"▾\";}#sk-container-id-19 div.sk-estimator input.sk-toggleable__control:checked~label.sk-toggleable__label {background-color: #d4ebff;}#sk-container-id-19 div.sk-label input.sk-toggleable__control:checked~label.sk-toggleable__label {background-color: #d4ebff;}#sk-container-id-19 input.sk-hidden--visually {border: 0;clip: rect(1px 1px 1px 1px);clip: rect(1px, 1px, 1px, 1px);height: 1px;margin: -1px;overflow: hidden;padding: 0;position: absolute;width: 1px;}#sk-container-id-19 div.sk-estimator {font-family: monospace;background-color: #f0f8ff;border: 1px dotted black;border-radius: 0.25em;box-sizing: border-box;margin-bottom: 0.5em;}#sk-container-id-19 div.sk-estimator:hover {background-color: #d4ebff;}#sk-container-id-19 div.sk-parallel-item::after {content: \"\";width: 100%;border-bottom: 1px solid gray;flex-grow: 1;}#sk-container-id-19 div.sk-label:hover label.sk-toggleable__label {background-color: #d4ebff;}#sk-container-id-19 div.sk-serial::before {content: \"\";position: absolute;border-left: 1px solid gray;box-sizing: border-box;top: 0;bottom: 0;left: 50%;z-index: 0;}#sk-container-id-19 div.sk-serial {display: flex;flex-direction: column;align-items: center;background-color: white;padding-right: 0.2em;padding-left: 0.2em;position: relative;}#sk-container-id-19 div.sk-item {position: relative;z-index: 1;}#sk-container-id-19 div.sk-parallel {display: flex;align-items: stretch;justify-content: center;background-color: white;position: relative;}#sk-container-id-19 div.sk-item::before, #sk-container-id-19 div.sk-parallel-item::before {content: \"\";position: absolute;border-left: 1px solid gray;box-sizing: border-box;top: 0;bottom: 0;left: 50%;z-index: -1;}#sk-container-id-19 div.sk-parallel-item {display: flex;flex-direction: column;z-index: 1;position: relative;background-color: white;}#sk-container-id-19 div.sk-parallel-item:first-child::after {align-self: flex-end;width: 50%;}#sk-container-id-19 div.sk-parallel-item:last-child::after {align-self: flex-start;width: 50%;}#sk-container-id-19 div.sk-parallel-item:only-child::after {width: 0;}#sk-container-id-19 div.sk-dashed-wrapped {border: 1px dashed gray;margin: 0 0.4em 0.5em 0.4em;box-sizing: border-box;padding-bottom: 0.4em;background-color: white;}#sk-container-id-19 div.sk-label label {font-family: monospace;font-weight: bold;display: inline-block;line-height: 1.2em;}#sk-container-id-19 div.sk-label-container {text-align: center;}#sk-container-id-19 div.sk-container {/* jupyter's `normalize.less` sets `[hidden] { display: none; }` but bootstrap.min.css set `[hidden] { display: none !important; }` so we also need the `!important` here to be able to override the default hidden behavior on the sphinx rendered scikit-learn.org. See: https://github.com/scikit-learn/scikit-learn/issues/21755 */display: inline-block !important;position: relative;}#sk-container-id-19 div.sk-text-repr-fallback {display: none;}</style><div id=\"sk-container-id-19\" class=\"sk-top-container\"><div class=\"sk-text-repr-fallback\"><pre>RandomForestClassifier(random_state=0)</pre><b>In a Jupyter environment, please rerun this cell to show the HTML representation or trust the notebook. <br />On GitHub, the HTML representation is unable to render, please try loading this page with nbviewer.org.</b></div><div class=\"sk-container\" hidden><div class=\"sk-item\"><div class=\"sk-estimator sk-toggleable\"><input class=\"sk-toggleable__control sk-hidden--visually\" id=\"sk-estimator-id-19\" type=\"checkbox\" checked><label for=\"sk-estimator-id-19\" class=\"sk-toggleable__label sk-toggleable__label-arrow\">RandomForestClassifier</label><div class=\"sk-toggleable__content\"><pre>RandomForestClassifier(random_state=0)</pre></div></div></div></div></div>",
      "text/plain": "RandomForestClassifier(random_state=0)"
     },
     "execution_count": 164,
     "metadata": {},
     "output_type": "execute_result"
    }
   ],
   "source": [
    "from sklearn.ensemble import RandomForestClassifier\n",
    "\n",
    "\n",
    "\n",
    "clf = RandomForestClassifier(random_state=0)\n",
    "clf.fit(X_train_norm, Y_train_norm.to_numpy().reshape(14000,))\n",
    "\n",
    "\n"
   ]
  },
  {
   "cell_type": "code",
   "execution_count": 166,
   "metadata": {},
   "outputs": [],
   "source": [
    "pred = clf.predict(X_test_norm)\n",
    "\n",
    "pred = pred.reshape(600,10)"
   ]
  },
  {
   "cell_type": "code",
   "execution_count": 167,
   "metadata": {},
   "outputs": [],
   "source": [
    "Y_test_norm\n",
    "\n",
    "seq = np.array(Y_test_norm[\"attack\"]).reshape(600,10)\n",
    "\n",
    "\n"
   ]
  },
  {
   "cell_type": "code",
   "execution_count": null,
   "metadata": {},
   "outputs": [],
   "source": []
  },
  {
   "cell_type": "code",
   "execution_count": 168,
   "metadata": {},
   "outputs": [
    {
     "data": {
      "text/plain": "0.675"
     },
     "execution_count": 168,
     "metadata": {},
     "output_type": "execute_result"
    }
   ],
   "source": [
    "def starting_accuracy(pred,seq):\n",
    "    right = 0\n",
    "    total = 0\n",
    "    for idx,e in enumerate(pred):\n",
    "        total+=1\n",
    "        #print(seq[idx],pred[idx])\n",
    "        for k in range(10):\n",
    "            if seq[idx].tolist()[k] == 0 and pred[idx].tolist()[k] == 0:\n",
    "                continue\n",
    "            else:\n",
    "                if seq[idx].tolist()[k] != 0 and  pred[idx].tolist()[k] != 0:\n",
    "                    right+=1\n",
    "                    break\n",
    "                else:\n",
    "                    break\n",
    "    return right/total\n",
    "\n",
    "acc_start = starting_accuracy(pred,seq)\n",
    "acc_start"
   ]
  },
  {
   "cell_type": "code",
   "execution_count": null,
   "metadata": {},
   "outputs": [],
   "source": []
  },
  {
   "cell_type": "code",
   "execution_count": 169,
   "metadata": {},
   "outputs": [
    {
     "data": {
      "text/plain": "0.6305"
     },
     "execution_count": 169,
     "metadata": {},
     "output_type": "execute_result"
    }
   ],
   "source": [
    "def overall_accuracy(pred,seq):\n",
    "    right = 0\n",
    "    total = 0\n",
    "    for idx,e in enumerate(pred):\n",
    "        \n",
    "        for k in range(10):\n",
    "            total+=1\n",
    "            if pred[idx].tolist()[k] == seq[idx].tolist()[k]:\n",
    "                right+=1\n",
    "    return right/total\n",
    "\n",
    "acc_ov = overall_accuracy(pred,seq)\n",
    "acc_ov"
   ]
  },
  {
   "cell_type": "code",
   "execution_count": 171,
   "metadata": {},
   "outputs": [
    {
     "name": "stdout",
     "output_type": "stream",
     "text": [
      "0.1315 0.38875\n"
     ]
    }
   ],
   "source": [
    "# CHECK FOR OVERFITTING\n",
    "overfittingX = pd.read_csv(\"../data2-Testing/action.csv\")\n",
    "attack_names_map = {\"Continue\":0,\"Ping Scan\":1,\"Install tools\":2,\"DVWA SQL Injection Exploit\":3,\"Network service login\":4,\"Sambacry Explolit\":5}\n",
    "ovX = overfittingX.replace(attack_names_map)\n",
    "overfittingY = pd.read_csv(\"../data2-Testing/alert.csv\")\n",
    "\n",
    "testdf = pd.DataFrame(columns=['attack','alert',\"timestep\"])\n",
    "count = 0\n",
    "rows_list = []\n",
    "for index, row in ovX.iterrows():\n",
    "    \n",
    "    for col, value in row.items():\n",
    " \n",
    "        rows_list.append({\"alert\": value,\"attack\": ovX.loc[index][col],\"timestep\":int(col),\"index\":index,\"pred_alert\":overfittingY.loc[index][int(col)-1] if int(col)>0 else 0,\"succ_alert\": overfittingY.loc[index][int(col)+1] if int(col)<9 else 0, \"pred_alert2\":overfittingY.loc[index][int(col)-2] if int(col)>1 else 0,\"succ_alert2\":overfittingY.loc[index][int(col)+2] if int(col)<8 else 0})\n",
    "        \n",
    "testdf = pd.DataFrame(rows_list)\n",
    "\n",
    "X_test_norm = testdf[[\"alert\",\"timestep\"]]\n",
    "Y_test_norm = testdf[[\"attack\"]]\n",
    "\n",
    "pred = clf.predict(X_test_norm)\n",
    "\n",
    "pred = pred.reshape(2000,10)\n",
    "\n",
    "seq = np.array(Y_test_norm[\"attack\"]).reshape(2000,10)\n",
    "\n",
    "acc_start = starting_accuracy(pred,seq)\n",
    "acc_ov = overall_accuracy(pred,seq)\n",
    "\n",
    "print(acc_start,acc_ov)"
   ]
  }
 ],
 "metadata": {
  "kernelspec": {
   "display_name": "Python 3.11.6 64-bit",
   "name": "python3116jvsc74a57bd0aee8b7b246df8f9039afb4144a1f6fd8d2ca17a180786b69acc140d282b71a49"
  },
  "language_info": {
   "codemirror_mode": {
    "name": "ipython",
    "version": 3
   },
   "file_extension": ".py",
   "mimetype": "text/x-python",
   "name": "python",
   "nbconvert_exporter": "python",
   "pygments_lexer": "ipython3",
   "version": "3.11.6"
  },
  "metadata": {
   "interpreter": {
    "hash": "aee8b7b246df8f9039afb4144a1f6fd8d2ca17a180786b69acc140d282b71a49"
   }
  },
  "orig_nbformat": 2
 },
 "nbformat": 4,
 "nbformat_minor": 2
}